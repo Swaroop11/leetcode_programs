{
 "cells": [
  {
   "cell_type": "code",
   "execution_count": 1,
   "id": "a697088a",
   "metadata": {
    "ExecuteTime": {
     "end_time": "2022-05-26T09:17:13.574469Z",
     "start_time": "2022-05-26T09:17:13.569509Z"
    }
   },
   "outputs": [],
   "source": [
    "# Creating Linked List\n",
    "class Node:\n",
    "    def __init__(self, k):\n",
    "        self.key = k         # data of node\n",
    "        self.next = None     # reference to next node"
   ]
  },
  {
   "cell_type": "code",
   "execution_count": 59,
   "id": "d9575526",
   "metadata": {
    "ExecuteTime": {
     "end_time": "2022-05-26T11:34:57.004228Z",
     "start_time": "2022-05-26T11:34:57.000868Z"
    }
   },
   "outputs": [],
   "source": [
    "# created 3 nodes f\n",
    "n1 = Node(4)\n",
    "n2 = Node(5)\n",
    "n3 = Node(6)\n",
    "\n",
    "# now connecting nodes to form linked list\n",
    "n1.next = n2\n",
    "n2.next = n3\n",
    "head = n1          # first node\n",
    "n3.next = None     # last node\n",
    "\n",
    "\n",
    "# implementation with 1 variable\n",
    "head = Node(4)\n",
    "head.next = Node(5)\n",
    "head.next.next = Node(6)"
   ]
  },
  {
   "cell_type": "code",
   "execution_count": 53,
   "id": "702f8961",
   "metadata": {
    "ExecuteTime": {
     "end_time": "2022-05-26T11:33:30.470161Z",
     "start_time": "2022-05-26T11:33:30.465907Z"
    }
   },
   "outputs": [
    {
     "name": "stdout",
     "output_type": "stream",
     "text": [
      "4\n",
      "5\n",
      "6\n"
     ]
    }
   ],
   "source": [
    "# traversing a linked list - \n",
    "# function takes \"head\" as input and print all the elemts \n",
    "# time complexity - theta(n)\n",
    "\n",
    "def linked_list_traverse(head):\n",
    "    while head != None:\n",
    "        print(head.key)\n",
    "        head = head.next\n",
    "\n",
    "linked_list_traverse(head)"
   ]
  },
  {
   "cell_type": "code",
   "execution_count": 29,
   "id": "02b69209",
   "metadata": {
    "ExecuteTime": {
     "end_time": "2022-05-26T09:51:46.281007Z",
     "start_time": "2022-05-26T09:51:46.275395Z"
    },
    "code_folding": [
     1
    ]
   },
   "outputs": [
    {
     "data": {
      "text/plain": [
       "-1"
      ]
     },
     "execution_count": 29,
     "metadata": {},
     "output_type": "execute_result"
    }
   ],
   "source": [
    "# search in a linked list\n",
    "def linked_list_search(head, element):\n",
    "    index = 0\n",
    "    found = False\n",
    "    while head != None:\n",
    "        if head.key == element:\n",
    "            found = True\n",
    "            break\n",
    "        else:\n",
    "            index += 1\n",
    "        head = head.next\n",
    "            \n",
    "    if found:\n",
    "        return index\n",
    "    else:\n",
    "        return -1\n",
    "\n",
    "linked_list_search(head, 7)"
   ]
  },
  {
   "cell_type": "code",
   "execution_count": 36,
   "id": "32023167",
   "metadata": {
    "ExecuteTime": {
     "end_time": "2022-05-26T10:10:37.282835Z",
     "start_time": "2022-05-26T10:10:37.273942Z"
    },
    "code_folding": [
     1
    ]
   },
   "outputs": [
    {
     "name": "stdout",
     "output_type": "stream",
     "text": [
      "4\n",
      "5\n",
      "6\n",
      "after adding element\n",
      "10\n",
      "4\n",
      "5\n",
      "6\n"
     ]
    }
   ],
   "source": [
    "# inserion of element in the start of linked list\n",
    "def linked_list_insert(head, element):\n",
    "    new_node = Node(element)\n",
    "    new_node.next = head   # if head is None, then also it works\n",
    "    return new_node   \n",
    "\n",
    "linked_list_traverse(head)\n",
    "print(\"after adding element\")\n",
    "linked_list_traverse(linked_list_insert(head, 10))"
   ]
  },
  {
   "cell_type": "code",
   "execution_count": 50,
   "id": "fa0ec049",
   "metadata": {
    "ExecuteTime": {
     "end_time": "2022-05-26T11:06:44.813889Z",
     "start_time": "2022-05-26T11:06:44.808076Z"
    },
    "code_folding": [
     1
    ]
   },
   "outputs": [
    {
     "name": "stdout",
     "output_type": "stream",
     "text": [
      "4\n",
      "5\n",
      "6\n",
      "4\n",
      "after adding element in the end\n",
      "4\n",
      "5\n",
      "6\n",
      "4\n",
      "10\n"
     ]
    }
   ],
   "source": [
    "# adding element in end of linkedt list\n",
    "def linked_list_insert_end(head, element):\n",
    "    if head == None:\n",
    "        return Node(element)\n",
    "    \n",
    "    curr = head\n",
    "    while curr.next != None:\n",
    "        curr = curr.next\n",
    "    curr.next = Node(element)\n",
    "    return head\n",
    "     \n",
    "linked_list_traverse(head)\n",
    "print(\"after adding element in the end\")\n",
    "linked_list_traverse(linked_list_insert_end(head, 10))"
   ]
  },
  {
   "cell_type": "code",
   "execution_count": 62,
   "id": "cf955e3c",
   "metadata": {
    "ExecuteTime": {
     "end_time": "2022-05-26T11:35:32.024419Z",
     "start_time": "2022-05-26T11:35:32.016266Z"
    }
   },
   "outputs": [
    {
     "name": "stdout",
     "output_type": "stream",
     "text": [
      "4\n",
      "10\n",
      "5\n",
      "6\n",
      "after adding element in the end\n",
      "4\n",
      "10\n",
      "5\n",
      "10\n",
      "6\n"
     ]
    }
   ],
   "source": [
    "# insert element on a defined position in linked list\n",
    "def ll_insert_pos(head, element, pos):\n",
    "    new_node = Node(element)\n",
    "    index = 1\n",
    "    current = head\n",
    "    while current != None:\n",
    "        if index == pos - 1:\n",
    "            new_node.next = current.next\n",
    "            current.next = new_node\n",
    "            break\n",
    "        else:\n",
    "            index += 1\n",
    "        current = current.next\n",
    "    return head\n",
    "\n",
    "linked_list_traverse(head)\n",
    "print(\"after adding element in the end\")\n",
    "linked_list_traverse(ll_insert_pos(head, 10, 4))"
   ]
  },
  {
   "cell_type": "code",
   "execution_count": null,
   "id": "4c19def1",
   "metadata": {},
   "outputs": [],
   "source": []
  }
 ],
 "metadata": {
  "kernelspec": {
   "display_name": "Python 3 (ipykernel)",
   "language": "python",
   "name": "python3"
  },
  "language_info": {
   "codemirror_mode": {
    "name": "ipython",
    "version": 3
   },
   "file_extension": ".py",
   "mimetype": "text/x-python",
   "name": "python",
   "nbconvert_exporter": "python",
   "pygments_lexer": "ipython3",
   "version": "3.8.12"
  }
 },
 "nbformat": 4,
 "nbformat_minor": 5
}
