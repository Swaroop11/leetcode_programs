{
 "cells": [
  {
   "cell_type": "code",
   "execution_count": 1,
   "id": "fdd07621",
   "metadata": {
    "ExecuteTime": {
     "end_time": "2022-04-23T14:31:43.561407Z",
     "start_time": "2022-04-23T14:31:43.556980Z"
    }
   },
   "outputs": [],
   "source": [
    "# leetcode 704\n",
    "# binary search \n",
    "def binary_search(array, target):\n",
    "    if target not in array:\n",
    "        return -1\n",
    "    else:\n",
    "        left = 0\n",
    "        right = len(array) - 1\n",
    "        \n",
    "        while left <= right:\n",
    "            mid = int((left + right)/2) \n",
    "            if target == array[mid]:\n",
    "                return mid\n",
    "            \n",
    "            else:\n",
    "                if target > array[mid]:\n",
    "                    left = mid+1\n",
    "                else:\n",
    "                    right = mid-1"
   ]
  },
  {
   "cell_type": "code",
   "execution_count": 2,
   "id": "d0c58a86",
   "metadata": {
    "ExecuteTime": {
     "end_time": "2022-04-23T14:31:44.200890Z",
     "start_time": "2022-04-23T14:31:44.196769Z"
    }
   },
   "outputs": [
    {
     "name": "stdout",
     "output_type": "stream",
     "text": [
      "element present on index:  10\n"
     ]
    }
   ],
   "source": [
    "sorted_list = [0, 1, 2, 3, 4, 5, 6, 11, 11, 13, 56, 67, 68]\n",
    "element = 56\n",
    "\n",
    "index = binary_search(sorted_list, element)\n",
    "if index == -1: \n",
    "    print(\"element not present in the list\")\n",
    "else:\n",
    "    print(\"element present on index: \", index)"
   ]
  },
  {
   "cell_type": "code",
   "execution_count": null,
   "id": "4434c2e9",
   "metadata": {
    "ExecuteTime": {
     "end_time": "2022-04-23T05:59:51.368022Z",
     "start_time": "2022-04-23T05:59:51.351842Z"
    }
   },
   "outputs": [],
   "source": []
  },
  {
   "cell_type": "code",
   "execution_count": 3,
   "id": "bc33d04a",
   "metadata": {
    "ExecuteTime": {
     "end_time": "2022-04-23T14:31:46.052992Z",
     "start_time": "2022-04-23T14:31:46.049236Z"
    }
   },
   "outputs": [],
   "source": [
    "# leetcode 2089\n",
    "# getting all indices for target elemet - when target comes multiple times\n",
    "import collections\n",
    "def binary_search_all_indices(array, target):\n",
    "    if target not in array:\n",
    "        return []\n",
    "    else:\n",
    "        array.sort()\n",
    "        # to check how many times the target comes in list\n",
    "        frequency = collections.Counter(array)[target]\n",
    "        first_occurrence = array.index(target)\n",
    "        indices_list = list(range(first_occurrence, \n",
    "                                  first_occurrence + frequency))\n",
    "        return indices_list"
   ]
  },
  {
   "cell_type": "code",
   "execution_count": 4,
   "id": "fe2de758",
   "metadata": {
    "ExecuteTime": {
     "end_time": "2022-04-23T14:31:46.554576Z",
     "start_time": "2022-04-23T14:31:46.550447Z"
    }
   },
   "outputs": [
    {
     "name": "stdout",
     "output_type": "stream",
     "text": [
      "[2, 3]\n"
     ]
    }
   ],
   "source": [
    "sorted_list = [1,5,2,3,3]\n",
    "element = 3\n",
    "\n",
    "index_list = binary_search_all_indices(sorted_list, element)\n",
    "print(index_list)"
   ]
  },
  {
   "cell_type": "code",
   "execution_count": null,
   "id": "904c1a3b",
   "metadata": {
    "ExecuteTime": {
     "end_time": "2022-04-23T07:53:24.195348Z",
     "start_time": "2022-04-23T07:53:24.190489Z"
    }
   },
   "outputs": [],
   "source": []
  },
  {
   "cell_type": "code",
   "execution_count": 5,
   "id": "cc230859",
   "metadata": {
    "ExecuteTime": {
     "end_time": "2022-04-23T14:31:48.324492Z",
     "start_time": "2022-04-23T14:31:48.319000Z"
    }
   },
   "outputs": [
    {
     "name": "stdout",
     "output_type": "stream",
     "text": [
      "3\n"
     ]
    }
   ],
   "source": [
    "#leetcode 1608\n",
    "nums = [0,4,3,0,4]\n",
    "nums.sort()\n",
    "special_value = -1\n",
    "\n",
    "for p_value in range(len(nums) + 1):\n",
    "    if p_value in nums:\n",
    "        n_index = nums.index(p_value)\n",
    "        if len(nums) - n_index == p_value:\n",
    "            special_value = p_value\n",
    "    else:\n",
    "        if p_value <= len(nums):\n",
    "            if len([1 for i in nums if i > p_value]) == p_value:\n",
    "                special_value = p_value\n",
    "    \n",
    "print(special_value)"
   ]
  },
  {
   "cell_type": "code",
   "execution_count": null,
   "id": "d29109fd",
   "metadata": {
    "ExecuteTime": {
     "end_time": "2022-04-23T08:31:59.828849Z",
     "start_time": "2022-04-23T08:31:59.819217Z"
    }
   },
   "outputs": [],
   "source": []
  },
  {
   "cell_type": "code",
   "execution_count": 42,
   "id": "447f7c3a",
   "metadata": {
    "ExecuteTime": {
     "end_time": "2022-04-23T14:55:46.663629Z",
     "start_time": "2022-04-23T14:55:46.657553Z"
    }
   },
   "outputs": [
    {
     "data": {
      "text/plain": [
       "True"
      ]
     },
     "execution_count": 42,
     "metadata": {},
     "output_type": "execute_result"
    }
   ],
   "source": [
    "# leetcode 1346\n",
    "arr =[-2,0,10,-19,4,0,-8]\n",
    "\n",
    "def check_if_exits(arr):\n",
    "    double = [ele for ele in arr if ele*2 in arr]\n",
    "    if double == []:\n",
    "        return False\n",
    "    elif double[0] != 0:\n",
    "        return True\n",
    "    \n",
    "    # condition to handle 0 in list\n",
    "    if double[0] == 0 and len(double) == 2:\n",
    "        return True\n",
    "    if double[0] == 0 and len(double) == 1:\n",
    "        return False\n",
    "    \n",
    "check_if_exits(arr)"
   ]
  },
  {
   "cell_type": "code",
   "execution_count": null,
   "id": "e5c06902",
   "metadata": {},
   "outputs": [],
   "source": []
  },
  {
   "cell_type": "code",
   "execution_count": 73,
   "id": "995ea18d",
   "metadata": {
    "ExecuteTime": {
     "end_time": "2022-04-23T15:35:32.573504Z",
     "start_time": "2022-04-23T15:35:32.561040Z"
    }
   },
   "outputs": [
    {
     "name": "stdout",
     "output_type": "stream",
     "text": [
      "[0, 1, 3]\n"
     ]
    }
   ],
   "source": [
    "# leetcode 1385\n",
    "arr1 = [2,1,100,3]\n",
    "arr2 = [-5,-2,10,-3,7]\n",
    "d = 6\n",
    "\n",
    "arr2.sort()\n",
    "lower_indices = []\n",
    "for a1, ele_a1 in enumerate(arr1):\n",
    "    for a2, ele_a2 in enumerate(arr2):\n",
    "        if abs(ele_a1 - ele_a2) <= d and a1 not in lower_indices:\n",
    "            lower_indices.append(a1)"
   ]
  },
  {
   "cell_type": "code",
   "execution_count": null,
   "id": "56459fb9",
   "metadata": {},
   "outputs": [],
   "source": []
  },
  {
   "cell_type": "code",
   "execution_count": null,
   "id": "221426e6",
   "metadata": {},
   "outputs": [],
   "source": [
    "# LeetCode 35: Given a sorted array of distinct integers and a target value, return the index if the target is found. \n",
    "# If not, return the index where it would be if it were inserted in order.\n",
    "# You must write an algorithm with O(log n) runtime complexity.\n",
    "\n",
    "nums = [1,3,5,6]\n",
    "target = 5\n",
    "def binary_search(nums, target):\n",
    "    left = 0 \n",
    "    right = len(nums) - 1\n",
    "    \n",
    "    while left < right:\n",
    "        mid = int((left + right)/2)\n",
    "        \n",
    "        if nums[mid] > target:\n",
    "            right = mid -1\n",
    "        elif nums[mid] < target:\n",
    "            left = mid + 1\n",
    "        else:\n",
    "            return mid\n",
    "            "
   ]
  },
  {
   "cell_type": "code",
   "execution_count": 29,
   "id": "59d2c99e",
   "metadata": {},
   "outputs": [
    {
     "name": "stdout",
     "output_type": "stream",
     "text": [
      "0 3 1\n",
      "3 7\n",
      "2 3 2\n",
      "5 7\n",
      "3 3 3\n",
      "6 7\n"
     ]
    },
    {
     "data": {
      "text/plain": [
       "(4, False)"
      ]
     },
     "execution_count": 29,
     "metadata": {},
     "output_type": "execute_result"
    }
   ],
   "source": [
    "def binary_search_v2(nums, target):\n",
    "    left = 0 \n",
    "    right = len(nums) - 1\n",
    "\n",
    "    while left <= right:\n",
    "        mid = int((left + right)/2)\n",
    "        print(left, right, mid)\n",
    "        print(nums[mid], target)\n",
    "\n",
    "        if nums[mid] > target:\n",
    "            right = mid -1\n",
    "        elif nums[mid] < target:\n",
    "            left = mid + 1\n",
    "        else:\n",
    "            return (mid, True)\n",
    "    if nums[mid] < target:\n",
    "        mid += 1\n",
    "    return (mid, False)      \n",
    "\n",
    "nums = [1,3,5,6]\n",
    "target = 7\n",
    "\n",
    "#index, presence = \n",
    "binary_search_v2(nums, target)\n"
   ]
  },
  {
   "cell_type": "code",
   "execution_count": null,
   "id": "d566bf37",
   "metadata": {},
   "outputs": [],
   "source": []
  },
  {
   "cell_type": "code",
   "execution_count": null,
   "id": "bc738518",
   "metadata": {},
   "outputs": [],
   "source": []
  },
  {
   "cell_type": "code",
   "execution_count": null,
   "id": "02f7ee19",
   "metadata": {},
   "outputs": [],
   "source": []
  }
 ],
 "metadata": {
  "kernelspec": {
   "display_name": "Python 3",
   "language": "python",
   "name": "python3"
  },
  "language_info": {
   "codemirror_mode": {
    "name": "ipython",
    "version": 3
   },
   "file_extension": ".py",
   "mimetype": "text/x-python",
   "name": "python",
   "nbconvert_exporter": "python",
   "pygments_lexer": "ipython3",
   "version": "3.8.8"
  }
 },
 "nbformat": 4,
 "nbformat_minor": 5
}
