{
 "cells": [
  {
   "cell_type": "code",
   "execution_count": 48,
   "id": "35813bec",
   "metadata": {
    "ExecuteTime": {
     "end_time": "2022-05-11T05:52:39.933660Z",
     "start_time": "2022-05-11T05:52:39.924927Z"
    }
   },
   "outputs": [
    {
     "name": "stdout",
     "output_type": "stream",
     "text": [
      "[2, 1, 0]\n",
      "[2, 1, 0]\n",
      "[2, 1, 0]\n",
      "[2, 1, 5, 6, 0, 0, 0]\n"
     ]
    }
   ],
   "source": [
    "# LeetCode 283: Given an array of integers, write a function to move all the 0's to the end while maintaing the \n",
    "# relative order of the other elements\n",
    "\n",
    "# sol1:- list comprehension\n",
    "arr = [0,2,1]\n",
    "\n",
    "num_zeros = [0]*arr.count(0)\n",
    "new_arr = [x for x in arr if x != 0]\n",
    "new_arr.extend(num_zeros)\n",
    "print(new_arr)\n",
    "\n",
    "\n",
    "# sol2:- 2 for loops\n",
    "arr = [0,2,1]\n",
    "\n",
    "new_arr = []\n",
    "for i, ele in enumerate(arr):  # adding non zero elements in the array\n",
    "    if ele != 0: new_arr.append(ele)\n",
    "\n",
    "for i in range(len(arr) - len(new_arr)):  # adding zeros in the array\n",
    "    new_arr.append(0)\n",
    "print(new_arr)\n",
    "\n",
    "\n",
    "#sol3:- updating input array itself, using deepcopy\n",
    "arr = [0,2,1]\n",
    "\n",
    "from copy import deepcopy\n",
    "temp_arr = deepcopy(arr)\n",
    "add_zero = 0\n",
    "for i, ele in enumerate(temp_arr):\n",
    "    if ele == 0:\n",
    "        add_zero += 1\n",
    "        arr.remove(0)\n",
    "arr.extend([0]*add_zero)\n",
    "print(arr)\n",
    "\n",
    "\n",
    "# sol4: updating input array itself\n",
    "arr = [0,2,1,0,0,5,6]\n",
    "\n",
    "j = 0\n",
    "for ele in arr:\n",
    "    if ele != 0: \n",
    "        arr[j] = ele\n",
    "        j+=1\n",
    "        \n",
    "# remaining elements of array are 0s and we need to fill them\n",
    "for i in range(j, len(arr)):\n",
    "    arr[i] = 0\n",
    "print(arr)\n"
   ]
  },
  {
   "cell_type": "code",
   "execution_count": 52,
   "id": "197d0b23",
   "metadata": {
    "ExecuteTime": {
     "end_time": "2022-05-11T05:56:38.386813Z",
     "start_time": "2022-05-11T05:56:38.382563Z"
    }
   },
   "outputs": [
    {
     "name": "stdout",
     "output_type": "stream",
     "text": [
      "5 [0, 1, 3, 0, 4, '_', '_', '_']\n"
     ]
    }
   ],
   "source": [
    "# LeetCode 27: remove given number \"n\" from list and send back first \"n\" elements of input list\n",
    "nums = [0,1,2,2,3,0,4,2]\n",
    "val = 2\n",
    "\n",
    "j = 0 \n",
    "for ele in nums:\n",
    "    if ele != val:\n",
    "        nums[j] = ele\n",
    "        j+=1\n",
    "        \n",
    "for i in range(j, len(nums)):\n",
    "    nums[i] = '_'\n",
    "\n",
    "print(j, nums)"
   ]
  },
  {
   "cell_type": "code",
   "execution_count": null,
   "id": "1303dfb0",
   "metadata": {},
   "outputs": [],
   "source": [
    "# LeetCode 9: Given an integer x, return true if x is palindrome integer.\n",
    "# A string is called a palindrome string if the reverse of that string is the same as the original string\n",
    "\n",
    "def logestPalindrome(x):\n",
    "    x = str(x)\n",
    "    if x == x[:: -1]:\n",
    "        return True\n",
    "    else:\n",
    "        return False\n"
   ]
  },
  {
   "cell_type": "code",
   "execution_count": 59,
   "id": "ad0a5881",
   "metadata": {
    "ExecuteTime": {
     "end_time": "2022-05-17T14:26:17.560692Z",
     "start_time": "2022-05-17T14:26:17.545168Z"
    }
   },
   "outputs": [
    {
     "name": "stdout",
     "output_type": "stream",
     "text": [
      "13\n"
     ]
    }
   ],
   "source": [
    "# LeetCode 13: Roman to Integer\n",
    "rom_int = {\"I\":1, \"V\":5, \"X\":10, \"L\":50, \"C\":100, \"D\":500, \"M\":1000}\n",
    "s =  \"XIII\"\n",
    "\n",
    "final_value = 0\n",
    "for i, ele in enumerate(s): \n",
    "    pre_val = rom_int[ele]\n",
    "    if i+1 < len(s):\n",
    "        nex_val = rom_int[s[i+1]]\n",
    "    else:\n",
    "        nex_val = pre_val\n",
    "    \n",
    "    if nex_val > pre_val:\n",
    "        pre_val = -pre_val\n",
    "    final_value += pre_val\n",
    "\n",
    "print(final_value)"
   ]
  },
  {
   "cell_type": "code",
   "execution_count": 80,
   "id": "c3631a21",
   "metadata": {
    "ExecuteTime": {
     "end_time": "2022-05-17T15:12:55.696025Z",
     "start_time": "2022-05-17T15:12:55.687473Z"
    }
   },
   "outputs": [
    {
     "data": {
      "text/plain": [
       "'fl'"
      ]
     },
     "execution_count": 80,
     "metadata": {},
     "output_type": "execute_result"
    }
   ],
   "source": [
    "# LeetCode 14: Longest common prefix\n",
    "strs = [\"flower\",\"flow\",\"flight\"]\n",
    "\n",
    "def longestCommonPrefix(strs):\n",
    "    long = min([len(a) for a in strs])\n",
    "\n",
    "    for i in range(long):\n",
    "        prefix_list = [a[:long-i] for a in strs]\n",
    "        if len(set(prefix_list)) == 1:\n",
    "            return prefix_list[0]\n",
    "    return \"\"\n",
    "\n",
    "longestCommonPrefix(strs)"
   ]
  },
  {
   "cell_type": "code",
   "execution_count": 101,
   "id": "62c91072",
   "metadata": {
    "ExecuteTime": {
     "end_time": "2022-05-17T15:34:18.946119Z",
     "start_time": "2022-05-17T15:34:18.932295Z"
    }
   },
   "outputs": [
    {
     "data": {
      "text/plain": [
       "True"
      ]
     },
     "execution_count": 101,
     "metadata": {},
     "output_type": "execute_result"
    }
   ],
   "source": [
    "# LeetCode 20: Given a string s containing just the characters '(', ')', '{', '}', '[' and ']', \n",
    "# determine if the input string is valid.\n",
    "\n",
    "def isValid(s):\n",
    "    brackets = {\"(\":\")\", \"[\":\"]\", \"{\":\"}\"}\n",
    "    final_value = []\n",
    "    for i, ele in enumerate(s):\n",
    "        if ele in brackets.keys():\n",
    "            if brackets[ele] == s[i+1]:\n",
    "                final_value.append(True)\n",
    "\n",
    "            elif brackets[ele] == s[len(s)-1 -i]:\n",
    "                final_value.append(True)\n",
    "    \n",
    "    if len(list(set(final_value))) == 1:\n",
    "        if set(final_value):\n",
    "            return True\n",
    "        else:\n",
    "            return False\n",
    "    return False\n",
    "\n",
    "s = \"{[[]}\"\n",
    "\n",
    "isValid(s)\n",
    "\n",
    "NOT SOLVED YET"
   ]
  },
  {
   "cell_type": "code",
   "execution_count": null,
   "id": "8845e943",
   "metadata": {},
   "outputs": [],
   "source": []
  },
  {
   "cell_type": "code",
   "execution_count": null,
   "id": "3a05d349",
   "metadata": {
    "ExecuteTime": {
     "end_time": "2022-08-01T12:48:54.731664Z",
     "start_time": "2022-08-01T12:48:54.727739Z"
    }
   },
   "outputs": [],
   "source": []
  },
  {
   "cell_type": "code",
   "execution_count": null,
   "id": "cdbbd4b7",
   "metadata": {
    "ExecuteTime": {
     "end_time": "2022-08-01T12:48:55.018203Z",
     "start_time": "2022-08-01T12:48:55.014496Z"
    }
   },
   "outputs": [],
   "source": []
  },
  {
   "cell_type": "code",
   "execution_count": null,
   "id": "fbf2f8c3",
   "metadata": {
    "ExecuteTime": {
     "end_time": "2022-08-01T12:49:00.693494Z",
     "start_time": "2022-08-01T12:49:00.688008Z"
    }
   },
   "outputs": [],
   "source": []
  },
  {
   "cell_type": "code",
   "execution_count": null,
   "id": "4892a3d3",
   "metadata": {},
   "outputs": [],
   "source": []
  }
 ],
 "metadata": {
  "kernelspec": {
   "display_name": "Python 3",
   "language": "python",
   "name": "python3"
  },
  "language_info": {
   "codemirror_mode": {
    "name": "ipython",
    "version": 3
   },
   "file_extension": ".py",
   "mimetype": "text/x-python",
   "name": "python",
   "nbconvert_exporter": "python",
   "pygments_lexer": "ipython3",
   "version": "3.8.8"
  }
 },
 "nbformat": 4,
 "nbformat_minor": 5
}
