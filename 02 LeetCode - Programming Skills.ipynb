{
 "cells": [
  {
   "cell_type": "code",
   "execution_count": 1,
   "id": "77d6c047",
   "metadata": {
    "ExecuteTime": {
     "end_time": "2022-08-02T05:06:10.572607Z",
     "start_time": "2022-08-02T05:06:10.567953Z"
    },
    "code_folding": []
   },
   "outputs": [],
   "source": [
    "# Day: 1 \n",
    "# 1523: Count Odd numbers in an interval range\n",
    "low = 3\n",
    "high = 7\n",
    "\n",
    "# half numbers will be odd and other half will be even\n",
    "count = (high - low)//2 + max(high%2, low%2)\n",
    "\n",
    "###############################################################\n",
    "# 1491: Avg. salary excluding the min and max salary\n",
    "salary = [4000, 3000, 1000, 2000]\n",
    "\n",
    "# remove max and min from sum and devide by len - 2\n",
    "avg_salary = (sum(salary) - max(salary) - min(salary)) / (len(salary) - 2)\n"
   ]
  },
  {
   "cell_type": "code",
   "execution_count": null,
   "id": "2cd112cc",
   "metadata": {},
   "outputs": [],
   "source": []
  },
  {
   "cell_type": "code",
   "execution_count": null,
   "id": "ffaedb2a",
   "metadata": {},
   "outputs": [],
   "source": []
  }
 ],
 "metadata": {
  "kernelspec": {
   "display_name": "Python 3",
   "language": "python",
   "name": "python3"
  },
  "language_info": {
   "codemirror_mode": {
    "name": "ipython",
    "version": 3
   },
   "file_extension": ".py",
   "mimetype": "text/x-python",
   "name": "python",
   "nbconvert_exporter": "python",
   "pygments_lexer": "ipython3",
   "version": "3.8.8"
  }
 },
 "nbformat": 4,
 "nbformat_minor": 5
}
